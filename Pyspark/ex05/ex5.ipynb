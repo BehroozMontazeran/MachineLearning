{
 "cells": [
  {
   "cell_type": "code",
   "execution_count": 1,
   "id": "22fe1383",
   "metadata": {},
   "outputs": [],
   "source": [
    "from pyspark.sql import SparkSession\n",
    "from pyspark import SparkConf, SparkContext\n",
    "from IPython.display import clear_output\n",
    "import pyspark.sql.types as stypes\n",
    "import os\n",
    "from pyspark.sql import functions as F\n",
    "from math import ceil"
   ]
  },
  {
   "cell_type": "code",
   "execution_count": 2,
   "id": "7c5f4697",
   "metadata": {},
   "outputs": [],
   "source": [
    "_conf = SparkConf()\n",
    "_conf.set('spark.driver.host', '127.0.0.1')\n",
    "_conf.set('log.level', 'ERROR')\n",
    "_cpu_count = os.cpu_count()\n",
    "sc = SparkContext(master=f\"local[{_cpu_count}]\",\n",
    "                  appName=\"Exercise 01\",\n",
    "                  conf=_conf).getOrCreate()\n",
    "sc.setLogLevel('ERROR')\n",
    "clear_output()\n",
    "spark = SparkSession(sc)"
   ]
  },
  {
   "cell_type": "code",
   "execution_count": 3,
   "id": "40c20880",
   "metadata": {},
   "outputs": [
    {
     "name": "stderr",
     "output_type": "stream",
     "text": [
      "                                                                                \r"
     ]
    }
   ],
   "source": [
    "df = spark.read.load(\"/home/sima/ds/user_artist_data_small.txt\",\n",
    "                 format=\"csv\", sep=\" \", inferSchema=\"true\", header=\"false\").toDF(\"user\",\"artist\", \"time\")"
   ]
  },
  {
   "cell_type": "code",
   "execution_count": 4,
   "id": "cafe3cb0",
   "metadata": {},
   "outputs": [
    {
     "name": "stdout",
     "output_type": "stream",
     "text": [
      "+-------+-------+-----+\n",
      "|   user| artist| time|\n",
      "+-------+-------+-----+\n",
      "|1059637|1000010|  238|\n",
      "|1059637|1000049|    1|\n",
      "|1059637|1000056|    1|\n",
      "|1059637|1000062|   11|\n",
      "|1059637|1000094|    1|\n",
      "|1059637|1000112|  423|\n",
      "|1059637|1000113|    5|\n",
      "|1059637|1000114|    2|\n",
      "|1059637|1000123|    2|\n",
      "|1059637|1000130|19129|\n",
      "|1059637|1000139|    4|\n",
      "|1059637|1000241|  188|\n",
      "|1059637|1000263|  180|\n",
      "|1059637|1000289|    2|\n",
      "|1059637|1000305|    1|\n",
      "|1059637|1000320|   21|\n",
      "|1059637|1000340|    1|\n",
      "|1059637|1000427|   20|\n",
      "|1059637|1000428|   12|\n",
      "|1059637|1000433|   10|\n",
      "+-------+-------+-----+\n",
      "only showing top 20 rows\n",
      "\n"
     ]
    }
   ],
   "source": [
    "df.show()"
   ]
  },
  {
   "cell_type": "code",
   "execution_count": 5,
   "id": "c8f7eae7",
   "metadata": {},
   "outputs": [],
   "source": [
    "df1 = spark.read.load(\"/home/sima/ds/artist_alias_small.txt\",\n",
    "                 format=\"csv\", sep=\"\\t\", inferSchema=\"true\", header=\"false\").toDF(\"artis_correctname\",\"artist1\")"
   ]
  },
  {
   "cell_type": "code",
   "execution_count": 6,
   "id": "899fe8df",
   "metadata": {},
   "outputs": [
    {
     "name": "stdout",
     "output_type": "stream",
     "text": [
      "+-----------------+-------+\n",
      "|artis_correctname|artist1|\n",
      "+-----------------+-------+\n",
      "|          1027859|1252408|\n",
      "|          1017615|    668|\n",
      "|          6745885|1268522|\n",
      "|          1018110|1018110|\n",
      "|          1014609|1014609|\n",
      "|          6713071|   2976|\n",
      "|          1014175|1014175|\n",
      "|          1008798|1008798|\n",
      "|          1013851|1013851|\n",
      "|          6696814|1030672|\n",
      "|          1036747|1239516|\n",
      "|          1278781|1021980|\n",
      "|          2035175|1007565|\n",
      "|          1327067|1308328|\n",
      "|          2006482|1140837|\n",
      "|          1314530|1237371|\n",
      "|          1160800|1345290|\n",
      "|          1255401|1055061|\n",
      "|          1307351|1055061|\n",
      "|          1234249|1005225|\n",
      "+-----------------+-------+\n",
      "only showing top 20 rows\n",
      "\n"
     ]
    }
   ],
   "source": [
    "df1.show()"
   ]
  },
  {
   "cell_type": "code",
   "execution_count": 8,
   "id": "65913efd",
   "metadata": {},
   "outputs": [],
   "source": [
    "left_join = df.join(df1, df.artist == df1.artist1,how='left')"
   ]
  },
  {
   "cell_type": "code",
   "execution_count": 9,
   "id": "848aa397",
   "metadata": {},
   "outputs": [
    {
     "name": "stdout",
     "output_type": "stream",
     "text": [
      "+-------+-------+-----+-----------------+-------+\n",
      "|   user| artist| time|artis_correctname|artist1|\n",
      "+-------+-------+-----+-----------------+-------+\n",
      "|1059637|1000010|  238|             null|   null|\n",
      "|1059637|1000049|    1|             null|   null|\n",
      "|1059637|1000056|    1|             null|   null|\n",
      "|1059637|1000062|   11|             null|   null|\n",
      "|1059637|1000094|    1|             null|   null|\n",
      "|1059637|1000112|  423|             null|   null|\n",
      "|1059637|1000113|    5|          9928973|1000113|\n",
      "|1059637|1000114|    2|             null|   null|\n",
      "|1059637|1000123|    2|          1146111|1000123|\n",
      "|1059637|1000130|19129|             null|   null|\n",
      "|1059637|1000139|    4|             null|   null|\n",
      "|1059637|1000241|  188|             null|   null|\n",
      "|1059637|1000263|  180|             null|   null|\n",
      "|1059637|1000289|    2|             null|   null|\n",
      "|1059637|1000305|    1|             null|   null|\n",
      "|1059637|1000320|   21|             null|   null|\n",
      "|1059637|1000340|    1|             null|   null|\n",
      "|1059637|1000427|   20|             null|   null|\n",
      "|1059637|1000428|   12|             null|   null|\n",
      "|1059637|1000433|   10|             null|   null|\n",
      "+-------+-------+-----+-----------------+-------+\n",
      "only showing top 20 rows\n",
      "\n"
     ]
    }
   ],
   "source": [
    "left_join.show()"
   ]
  },
  {
   "cell_type": "code",
   "execution_count": 10,
   "id": "87baa216",
   "metadata": {},
   "outputs": [
    {
     "name": "stdout",
     "output_type": "stream",
     "text": [
      "+-------+-------+-----+-----------------+-------+-------+\n",
      "|   user| artist| time|artis_correctname|artist1|    new|\n",
      "+-------+-------+-----+-----------------+-------+-------+\n",
      "|1059637|1000010|  238|             null|   null|1000010|\n",
      "|1059637|1000049|    1|             null|   null|1000049|\n",
      "|1059637|1000056|    1|             null|   null|1000056|\n",
      "|1059637|1000062|   11|             null|   null|1000062|\n",
      "|1059637|1000094|    1|             null|   null|1000094|\n",
      "|1059637|1000112|  423|             null|   null|1000112|\n",
      "|1059637|1000113|    5|          9928973|1000113|9928973|\n",
      "|1059637|1000114|    2|             null|   null|1000114|\n",
      "|1059637|1000123|    2|          1146111|1000123|1146111|\n",
      "|1059637|1000130|19129|             null|   null|1000130|\n",
      "|1059637|1000139|    4|             null|   null|1000139|\n",
      "|1059637|1000241|  188|             null|   null|1000241|\n",
      "|1059637|1000263|  180|             null|   null|1000263|\n",
      "|1059637|1000289|    2|             null|   null|1000289|\n",
      "|1059637|1000305|    1|             null|   null|1000305|\n",
      "|1059637|1000320|   21|             null|   null|1000320|\n",
      "|1059637|1000340|    1|             null|   null|1000340|\n",
      "|1059637|1000427|   20|             null|   null|1000427|\n",
      "|1059637|1000428|   12|             null|   null|1000428|\n",
      "|1059637|1000433|   10|             null|   null|1000433|\n",
      "+-------+-------+-----+-----------------+-------+-------+\n",
      "only showing top 20 rows\n",
      "\n"
     ]
    }
   ],
   "source": [
    "from pyspark.sql.functions import expr\n",
    "df3 = left_join.withColumn(\"new\", expr(\"CASE WHEN artis_correctname is null THEN artist \" + \n",
    "                     \"ELSE artis_correctname END\"))\n",
    "df3.show()"
   ]
  },
  {
   "cell_type": "code",
   "execution_count": 13,
   "id": "8d2a3584",
   "metadata": {},
   "outputs": [
    {
     "name": "stdout",
     "output_type": "stream",
     "text": [
      "+-------+-------+-----+\n",
      "|   user|    new| time|\n",
      "+-------+-------+-----+\n",
      "|1059637|1000010|  238|\n",
      "|1059637|1000049|    1|\n",
      "|1059637|1000056|    1|\n",
      "|1059637|1000062|   11|\n",
      "|1059637|1000094|    1|\n",
      "|1059637|1000112|  423|\n",
      "|1059637|9928973|    5|\n",
      "|1059637|1000114|    2|\n",
      "|1059637|1146111|    2|\n",
      "|1059637|1000130|19129|\n",
      "|1059637|1000139|    4|\n",
      "|1059637|1000241|  188|\n",
      "|1059637|1000263|  180|\n",
      "|1059637|1000289|    2|\n",
      "|1059637|1000305|    1|\n",
      "|1059637|1000320|   21|\n",
      "|1059637|1000340|    1|\n",
      "|1059637|1000427|   20|\n",
      "|1059637|1000428|   12|\n",
      "|1059637|1000433|   10|\n",
      "+-------+-------+-----+\n",
      "only showing top 20 rows\n",
      "\n"
     ]
    }
   ],
   "source": [
    "df4=df3.select(\"user\",\"new\",\"time\")\n",
    "df4.show()"
   ]
  },
  {
   "cell_type": "code",
   "execution_count": null,
   "id": "0d23e957",
   "metadata": {},
   "outputs": [],
   "source": []
  }
 ],
 "metadata": {
  "kernelspec": {
   "display_name": "Python (3.9)",
   "language": "python",
   "name": "py310"
  },
  "language_info": {
   "codemirror_mode": {
    "name": "ipython",
    "version": 3
   },
   "file_extension": ".py",
   "mimetype": "text/x-python",
   "name": "python",
   "nbconvert_exporter": "python",
   "pygments_lexer": "ipython3",
   "version": "3.9.13"
  }
 },
 "nbformat": 4,
 "nbformat_minor": 5
}
