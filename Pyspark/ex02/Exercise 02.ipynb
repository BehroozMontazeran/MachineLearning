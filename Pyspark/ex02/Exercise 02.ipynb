{
 "cells": [
  {
   "cell_type": "markdown",
   "id": "0c685c35",
   "metadata": {},
   "source": [
    "Imports\n",
    "-----------"
   ]
  },
  {
   "cell_type": "code",
   "execution_count": 56,
   "id": "8602ad1e",
   "metadata": {},
   "outputs": [],
   "source": [
    "from pyspark.sql import SparkSession\n",
    "from pyspark import SparkConf, SparkContext\n",
    "from IPython.display import clear_output\n",
    "import pyspark.sql.types as types\n",
    "import pyspark.ml.stat as stat\n",
    "import os\n",
    "from pyspark.sql import functions as F\n",
    "from math import ceil"
   ]
  },
  {
   "cell_type": "markdown",
   "id": "600aaad1",
   "metadata": {},
   "source": [
    "Deploy PySpark Session\n",
    "------------------------------------"
   ]
  },
  {
   "cell_type": "code",
   "execution_count": 2,
   "id": "054d1058",
   "metadata": {},
   "outputs": [],
   "source": [
    "# deploy a PySpark session\n",
    "_conf = SparkConf()\n",
    "_conf.set('spark.driver.host', '127.0.0.1')\n",
    "_conf.set('log.level', 'ERROR')\n",
    "_conf.set('spark.sql.pivotMaxValues', '99999999')\n",
    "_conf.set('spark.driver.memory', '8g')\n",
    "_cpu_count = os.cpu_count()\n",
    "sc = SparkContext(master=f\"local[{_cpu_count}]\",\n",
    "                  appName=\"Exercise 01\",\n",
    "                  conf=_conf).getOrCreate()\n",
    "sc.setLogLevel('ERROR')\n",
    "clear_output()\n",
    "spark = SparkSession(sc)"
   ]
  },
  {
   "cell_type": "markdown",
   "id": "d6b82fa5",
   "metadata": {},
   "source": [
    "Exercise 5a\n",
    "-----------------"
   ]
  },
  {
   "cell_type": "code",
   "execution_count": 3,
   "id": "514ca035",
   "metadata": {},
   "outputs": [
    {
     "name": "stdout",
     "output_type": "stream",
     "text": [
      "+-------+-------+\n",
      "|   id_1|   id_2|\n",
      "+-------+-------+\n",
      "|1027859|1252408|\n",
      "|1017615|    668|\n",
      "|6745885|1268522|\n",
      "|1018110|1018110|\n",
      "|1014609|1014609|\n",
      "|6713071|   2976|\n",
      "|1014175|1014175|\n",
      "|1008798|1008798|\n",
      "|1013851|1013851|\n",
      "|6696814|1030672|\n",
      "|1036747|1239516|\n",
      "|1278781|1021980|\n",
      "|2035175|1007565|\n",
      "|1327067|1308328|\n",
      "|2006482|1140837|\n",
      "|1314530|1237371|\n",
      "|1160800|1345290|\n",
      "|1255401|1055061|\n",
      "|1307351|1055061|\n",
      "|1234249|1005225|\n",
      "+-------+-------+\n",
      "only showing top 20 rows\n",
      "\n"
     ]
    }
   ],
   "source": [
    "# Load up artist_alias_small\n",
    "alias_schema = types.StructType([\n",
    "    types.StructField(\"id_1\", types.IntegerType(), True),\n",
    "    types.StructField(\"id_2\", types.IntegerType(), True)\n",
    "])\n",
    "alias_df = spark.read.load(\"dataset-problemset2-ex5/artist_alias_small.txt\",\n",
    "                    format=\"csv\",\n",
    "                    sep=\"\\t\",\n",
    "                    schema=alias_schema)\n",
    "alias_df.show()"
   ]
  },
  {
   "cell_type": "code",
   "execution_count": 4,
   "id": "859ad0f3",
   "metadata": {},
   "outputs": [
    {
     "name": "stdout",
     "output_type": "stream",
     "text": [
      "+-------+---------+---------+\n",
      "|user_id|artist_id|playcount|\n",
      "+-------+---------+---------+\n",
      "|1059637|  1000010|      238|\n",
      "|1059637|  1000049|        1|\n",
      "|1059637|  1000056|        1|\n",
      "|1059637|  1000062|       11|\n",
      "|1059637|  1000094|        1|\n",
      "|1059637|  1000112|      423|\n",
      "|1059637|  1000113|        5|\n",
      "|1059637|  1000114|        2|\n",
      "|1059637|  1000123|        2|\n",
      "|1059637|  1000130|    19129|\n",
      "|1059637|  1000139|        4|\n",
      "|1059637|  1000241|      188|\n",
      "|1059637|  1000263|      180|\n",
      "|1059637|  1000289|        2|\n",
      "|1059637|  1000305|        1|\n",
      "|1059637|  1000320|       21|\n",
      "|1059637|  1000340|        1|\n",
      "|1059637|  1000427|       20|\n",
      "|1059637|  1000428|       12|\n",
      "|1059637|  1000433|       10|\n",
      "+-------+---------+---------+\n",
      "only showing top 20 rows\n",
      "\n"
     ]
    }
   ],
   "source": [
    "# load up user_artist_data_small\n",
    "main_schema = types.StructType([\n",
    "    types.StructField(\"user_id\", types.IntegerType(), True),\n",
    "    types.StructField(\"artist_id\", types.IntegerType(), True),\n",
    "    types.StructField(\"playcount\", types.IntegerType(), True)\n",
    "])\n",
    "\n",
    "main_df = spark.read.load(\n",
    "    \"dataset-problemset2-ex5/user_artist_data_small.txt\",\n",
    "    format=\"csv\",\n",
    "    sep=\" \",  # it is not tab-separated as stated in the exercise!\n",
    "    schema=main_schema\n",
    ")\n",
    "main_df.show()"
   ]
  },
  {
   "cell_type": "code",
   "execution_count": 5,
   "id": "77ea3e22",
   "metadata": {},
   "outputs": [
    {
     "name": "stdout",
     "output_type": "stream",
     "text": [
      "+-------+---------+---------+----+----+\n",
      "|user_id|artist_id|playcount|id_1|id_2|\n",
      "+-------+---------+---------+----+----+\n",
      "|1046559|        1|      147|null|null|\n",
      "|1052461|        1|     3481|null|null|\n",
      "|1031009|        1|        4|null|null|\n",
      "|2062243|        1|       22|null|null|\n",
      "|1058890|        1|        3|null|null|\n",
      "|2288164|        1|     4006|null|null|\n",
      "|1063644|        1|      331|null|null|\n",
      "|1048402|        1|       53|null|null|\n",
      "|1017610|        1|      376|null|null|\n",
      "|2023686|        1|       49|null|null|\n",
      "|2010008|        1|       27|null|null|\n",
      "|1072684|        1|      100|null|null|\n",
      "|1026084|        1|      590|null|null|\n",
      "|1029563|        1|      125|null|null|\n",
      "|1041919|        1|      334|null|null|\n",
      "|2102019|        1|       22|null|null|\n",
      "|1059637|        2|        3|null|null|\n",
      "|1046559|        2|      155|null|null|\n",
      "|1031009|        2|      436|null|null|\n",
      "|2020513|        2|      846|null|null|\n",
      "+-------+---------+---------+----+----+\n",
      "only showing top 20 rows\n",
      "\n"
     ]
    }
   ],
   "source": [
    "# join alias_df with main_df on artist_id to overwrite artist_id with id_2 from alias\n",
    "main_df = main_df.join(alias_df, on=main_df['artist_id'] == alias_df['id_1'], how='full')\n",
    "main_df.show()"
   ]
  },
  {
   "cell_type": "code",
   "execution_count": 9,
   "id": "2be43eba",
   "metadata": {},
   "outputs": [
    {
     "name": "stdout",
     "output_type": "stream",
     "text": [
      "+-------+---------+---------+-------+-------+\n",
      "|user_id|artist_id|playcount|   id_1|   id_2|\n",
      "+-------+---------+---------+-------+-------+\n",
      "|1072684|  1252408|       31|1027859|1252408|\n",
      "|1001440|      668|        3|1017615|    668|\n",
      "|1024631|  1268522|        1|6745885|1268522|\n",
      "|1059334|  1018110|        1|1018110|1018110|\n",
      "|2010008|  1014609|       10|1014609|1014609|\n",
      "|2023686|  1014609|       35|1014609|1014609|\n",
      "|1017610|  1014609|        8|1014609|1014609|\n",
      "|1009943|  1014609|      182|1014609|1014609|\n",
      "|2023742|  1014609|      284|1014609|1014609|\n",
      "|2014936|  1014609|        2|1014609|1014609|\n",
      "|2062243|  1014609|      392|1014609|1014609|\n",
      "|2069337|  1014609|       61|1014609|1014609|\n",
      "|2010008|     2976|        2|6713071|   2976|\n",
      "|1024631|  1014175|       88|1014175|1014175|\n",
      "|1029563|  1008798|        6|1008798|1008798|\n",
      "|1026084|  1008798|        8|1008798|1008798|\n",
      "|2010008|  1008798|        4|1008798|1008798|\n",
      "|2023686|  1008798|        1|1008798|1008798|\n",
      "|1070641|  1008798|      114|1008798|1008798|\n",
      "|1059334|  1013851|       16|1013851|1013851|\n",
      "+-------+---------+---------+-------+-------+\n",
      "only showing top 20 rows\n",
      "\n"
     ]
    }
   ],
   "source": [
    "# overwrite id_2 into artist_id if id_2 is not null\n",
    "main_df = main_df.withColumn('artist_id', \n",
    "                      F.coalesce(\n",
    "                          main_df['id_2'],\n",
    "                          main_df['artist_id']\n",
    "                          )\n",
    "                     )\n",
    "# validation check that id_2 is now artist_id on not null id_2 values\n",
    "main_df.filter(\n",
    "    main_df['id_1'].isNotNull()\n",
    ").show()"
   ]
  },
  {
   "cell_type": "code",
   "execution_count": 14,
   "id": "8308c71e",
   "metadata": {},
   "outputs": [
    {
     "name": "stdout",
     "output_type": "stream",
     "text": [
      "+-------+---------+---------+\n",
      "|user_id|artist_id|playcount|\n",
      "+-------+---------+---------+\n",
      "|1046559|        1|      147|\n",
      "|1052461|        1|     3481|\n",
      "|1031009|        1|        4|\n",
      "|2062243|        1|       22|\n",
      "|1058890|        1|        3|\n",
      "|2288164|        1|     4006|\n",
      "|1063644|        1|      331|\n",
      "|1048402|        1|       53|\n",
      "|1017610|        1|      376|\n",
      "|2023686|        1|       49|\n",
      "|2010008|        1|       27|\n",
      "|1072684|        1|      100|\n",
      "|1026084|        1|      590|\n",
      "|1029563|        1|      125|\n",
      "|1041919|        1|      334|\n",
      "|2102019|        1|       22|\n",
      "|1059637|        2|        3|\n",
      "|1046559|        2|      155|\n",
      "|1031009|        2|      436|\n",
      "|2020513|        2|      846|\n",
      "+-------+---------+---------+\n",
      "only showing top 20 rows\n",
      "\n",
      "49481\n"
     ]
    }
   ],
   "source": [
    "# drop the id_1, id_2 columns\n",
    "columns_to_remove = ['id_1', 'id_2']\n",
    "main_df = main_df.drop(*columns_to_remove)\n",
    "main_df.show()\n",
    "print(main_df.count())"
   ]
  },
  {
   "cell_type": "code",
   "execution_count": 31,
   "id": "ff53d720",
   "metadata": {},
   "outputs": [],
   "source": [
    "# each row is one artist, each column is one user\n",
    "utility_df = main_df.groupBy('artist_id').pivot('user_id').sum('playcount')"
   ]
  },
  {
   "cell_type": "code",
   "execution_count": 41,
   "id": "f3bd2ef7",
   "metadata": {},
   "outputs": [
    {
     "name": "stdout",
     "output_type": "stream",
     "text": [
      "Row(artist_id=6911438, 1000647=None, 1001440=None, 1007308=None, 1009943=None, 1017610=None, 1021501=None, 1021940=None, 1024631=1, 1026084=None, 1029563=None, 1031009=None, 1035511=None, 1041919=None, 1042223=None, 1046559=None, 1047812=None, 1048402=None, 1052054=None, 1052461=None, 1055449=None, 1058890=None, 1059245=None, 1059334=None, 1059637=None, 1059765=None, 1063644=None, 1070641=None, 1070932=None, 1072684=None, 1073421=None, 1076906=None, 2000668=None, 2005710=None, 2007381=None, 2010008=None, 2010581=None, 2014936=None, 2017397=None, 2020513=None, 2023686=None, 2023742=None, 2023977=None, 2030069=None, 2062243=None, 2064012=None, 2069337=None, 2069889=None, 2070757=None, 2102019=None, 2288164=None)\n",
      "\n",
      "Total number of rows: 30100\n",
      "\n",
      "Total number of columns: 51\n"
     ]
    }
   ],
   "source": [
    "# first row for showcasing the row structure\n",
    "print(utility_df.first())\n",
    "print(f'\\nTotal number of rows: {utility_df.count()}')\n",
    "print(f'\\nTotal number of columns: {len(utility_df.columns)}')"
   ]
  },
  {
   "cell_type": "markdown",
   "id": "18780293",
   "metadata": {},
   "source": [
    "Exercise 5b\n",
    "-----------------"
   ]
  },
  {
   "cell_type": "code",
   "execution_count": 83,
   "id": "9e3959f7",
   "metadata": {},
   "outputs": [
    {
     "data": {
      "text/plain": [
       "(1000647, 2030069, 0.006601958200178793)"
      ]
     },
     "execution_count": 83,
     "metadata": {},
     "output_type": "execute_result"
    }
   ],
   "source": [
    "# function to get the similarity between two users based on the Pearson correlation\n",
    "def get_similarity(df, user_one, user_two):\n",
    "    # return tuple of (user one, user two, similarity)\n",
    "    return int(user_one), int(user_two), df.stat.corr(user_one, user_two, method='pearson')\n",
    "\n",
    "# example below\n",
    "get_similarity(utility_df, '1000647', '2030069')"
   ]
  },
  {
   "cell_type": "markdown",
   "id": "6895766c",
   "metadata": {},
   "source": [
    "Exercise 5c\n",
    "-----------------"
   ]
  },
  {
   "cell_type": "code",
   "execution_count": 87,
   "id": "214aa774",
   "metadata": {},
   "outputs": [
    {
     "name": "stdout",
     "output_type": "stream",
     "text": [
      "+--------+--------+--------------------+\n",
      "|user_one|user_two|          similarity|\n",
      "+--------+--------+--------------------+\n",
      "| 1000647| 2023686| 0.11398225362054047|\n",
      "| 1000647| 1009943| 0.10851019404398154|\n",
      "| 1000647| 1001440| 0.07701264082513853|\n",
      "| 1000647| 1024631| 0.07648002945468792|\n",
      "| 1000647| 1052461| 0.07479034338033153|\n",
      "| 1000647| 1072684| 0.04908567689073624|\n",
      "| 1000647| 2007381| 0.04434030978136511|\n",
      "| 1000647| 1017610| 0.03101525929697622|\n",
      "| 1000647| 1029563|0.030152642173836192|\n",
      "| 1000647| 2010008|0.026769569018660885|\n",
      "+--------+--------+--------------------+\n",
      "\n"
     ]
    }
   ],
   "source": [
    "def get_most_similar_users(df, user, k):\n",
    "    # calculate similarity of the provided user with all the other users\n",
    "    scores = [\n",
    "        get_similarity(df, user, user_two) for user_two in df.drop('artist_id').columns\n",
    "        if user_two != user\n",
    "    ]\n",
    "    schema = types.StructType([\n",
    "        types.StructField('user_one', types.IntegerType(), True),\n",
    "        types.StructField('user_two', types.IntegerType(), True),\n",
    "        types.StructField('similarity', types.DoubleType(), True)\n",
    "    ])\n",
    "    result = spark.createDataFrame(data=scores, schema=schema)\n",
    "    result = result.sort(F.col('similarity').desc()).limit(k)\n",
    "    return result\n",
    "\n",
    "most_similar = get_most_similar_users(utility_df, '1000647', 10)\n",
    "most_similar.show()"
   ]
  },
  {
   "cell_type": "markdown",
   "id": "f3356011",
   "metadata": {},
   "source": [
    "Exercise 5d\n",
    "-----------------"
   ]
  },
  {
   "cell_type": "code",
   "execution_count": 88,
   "id": "2c2ee0e7",
   "metadata": {},
   "outputs": [
    {
     "name": "stdout",
     "output_type": "stream",
     "text": [
      "+---------+--------------------+\n",
      "|artist_id|                name|\n",
      "+---------+--------------------+\n",
      "|  1240105|        André Visior|\n",
      "|  1240113|           riow arai|\n",
      "|  1240132|Outkast & Rage Ag...|\n",
      "|  6776115|            小松正夫|\n",
      "|  1030848|       Ravers Nature|\n",
      "|  6671601|      Erguner, Kudsi|\n",
      "|  1106617|              Bloque|\n",
      "|  1240185|      Lexy & K. Paul|\n",
      "|  6671631|    Rev. W.M. Mosley|\n",
      "|  6671632|      Labelle, Patti|\n",
      "|  1240238|   the Chinese Stars|\n",
      "|  1240262|            The Gufs|\n",
      "|  6718605|          Bali Music|\n",
      "|  6828988|Southern Conferen...|\n",
      "|  1240415|        Paul & Paula|\n",
      "|  1009439|            Cinnamon|\n",
      "|  1018275|      School Of Fish|\n",
      "|  6671680|Armstrong, Louis ...|\n",
      "|  1240508|The Ozark Mountai...|\n",
      "|  1240510| The Mercury Program|\n",
      "+---------+--------------------+\n",
      "only showing top 20 rows\n",
      "\n"
     ]
    }
   ],
   "source": [
    "# load artist_data_small\n",
    "artist_schema = types.StructType([\n",
    "    types.StructField(\"artist_id\", types.IntegerType(), True),\n",
    "    types.StructField(\"name\", types.StringType(), True)\n",
    "])\n",
    "artist_df = spark.read.load(\"dataset-problemset2-ex5/artist_data_small.txt\",\n",
    "                    format=\"csv\",\n",
    "                    sep=\"\\t\",\n",
    "                    schema=artist_schema)\n",
    "artist_df.show()"
   ]
  },
  {
   "cell_type": "code",
   "execution_count": 90,
   "id": "fd409afa",
   "metadata": {},
   "outputs": [],
   "source": [
    "# add new entires for the new user\n",
    "chosen_artists = ['6776115', '1018275', '1240508', '1240238', '1240113']\n",
    "new_user = 777\n",
    "main_df = main_df.union(\n",
    "    spark.createDataFrame(\n",
    "    [\n",
    "        (new_user, chosen_artists[0], 5),\n",
    "        (new_user, chosen_artists[1], 10),\n",
    "        (new_user, chosen_artists[2], 1),\n",
    "        (new_user, chosen_artists[3], 2),\n",
    "        (new_user, chosen_artists[4], 2)\n",
    "    ])\n",
    ")\n",
    "# update utility df\n",
    "# each row is one artist, each column is one user\n",
    "utility_df = main_df.groupBy('artist_id').pivot('user_id').sum('playcount')"
   ]
  }
 ],
 "metadata": {
  "kernelspec": {
   "display_name": "Python (3.10)",
   "language": "python",
   "name": "py310"
  },
  "language_info": {
   "codemirror_mode": {
    "name": "ipython",
    "version": 3
   },
   "file_extension": ".py",
   "mimetype": "text/x-python",
   "name": "python",
   "nbconvert_exporter": "python",
   "pygments_lexer": "ipython3",
   "version": "3.10.6"
  }
 },
 "nbformat": 4,
 "nbformat_minor": 5
}
