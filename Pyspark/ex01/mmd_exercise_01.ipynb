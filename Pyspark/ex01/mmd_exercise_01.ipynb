{
 "cells": [
  {
   "cell_type": "markdown",
   "id": "4a8c120a",
   "metadata": {},
   "source": [
    "Group members:\n",
    "Sima Esmaeili (3766857)\n",
    "Behrooz Montazeran (3769073)\n",
    "Mikail Deniz Cayoglu (3437201)"
   ]
  },
  {
   "cell_type": "markdown",
   "id": "e0c73d67",
   "metadata": {},
   "source": [
    "# Exercise 1"
   ]
  },
  {
   "cell_type": "markdown",
   "id": "8fc8b802",
   "metadata": {},
   "source": [
    "Assuming that all machines are functioning independently:\n",
    "a) \n",
    "If the probability of failing is p, then the probability of working is (1 - p).\n",
    "The probability that all will keep working is (1 - p) ^n.\n",
    "thus, the probability that at least one will fail is 1 - (1 - p) ^n\n",
    "\n",
    "b) \n",
    "The probability that exactly k machines will fail is n nCr k ·p^k·(1 - p)^(n- k)\n",
    "\n",
    "c) \n",
    "p1+p2+…+pn=\\sum_{k=0}^{n}{\\binom{n}{k}p^k{(1-p)}^{n-k}}-\\binom{n}{0}p^0{(1-p)}^{n-0}={(p+(1-p))}^{n-0}-{(1-p)}^n=\n",
    "1-{(1-p)}^n\n"
   ]
  },
  {
   "cell_type": "markdown",
   "id": "008a9391",
   "metadata": {},
   "source": [
    "# Exercise 2"
   ]
  },
  {
   "cell_type": "markdown",
   "id": "a787b666",
   "metadata": {},
   "source": [
    "a)\n",
    "The “join” transformation can help us join two pairs of RDDs based on their key.\n",
    "The “groupBy” transformation will group the data in the original RDD. It creates a set of key value pairs, where the key is output of a user function, and the value is all items for which the function yields this key.\n",
    "the sortByKey() function on a dataset of (K, V) pairs, the data is sorted according to the key K in another RDD.\n"
   ]
  },
  {
   "cell_type": "markdown",
   "id": "c748241b",
   "metadata": {},
   "source": [
    "b)"
   ]
  },
  {
   "cell_type": "markdown",
   "id": "31422490",
   "metadata": {},
   "source": [
    "Transformer: union()"
   ]
  },
  {
   "cell_type": "code",
   "execution_count": 1,
   "id": "7debf4b2",
   "metadata": {},
   "outputs": [],
   "source": [
    "from pyspark.sql import SparkSession\n",
    "from pyspark import SparkConf, SparkContext\n",
    "from IPython.display import clear_output\n",
    "import pyspark.sql.types as stypes\n",
    "import os\n",
    "from pyspark.sql import functions as F\n",
    "from math import ceil"
   ]
  },
  {
   "cell_type": "code",
   "execution_count": 2,
   "id": "61753a47",
   "metadata": {},
   "outputs": [],
   "source": [
    "_conf = SparkConf()\n",
    "_conf.set('spark.driver.host', '127.0.0.1')\n",
    "_conf.set('log.level', 'ERROR')\n",
    "_cpu_count = os.cpu_count()\n",
    "sc = SparkContext(master=f\"local[{_cpu_count}]\",\n",
    "                  appName=\"Exercise 01\",\n",
    "                  conf=_conf).getOrCreate()\n",
    "sc.setLogLevel('ERROR')\n",
    "clear_output()\n",
    "spark = SparkSession(sc)"
   ]
  },
  {
   "cell_type": "code",
   "execution_count": 3,
   "id": "b5565a97",
   "metadata": {},
   "outputs": [
    {
     "name": "stdout",
     "output_type": "stream",
     "text": [
      "('Item1', 1)\n",
      "('Item2', 1)\n",
      "('Item3', 1)\n",
      "('Item4', 1)\n"
     ]
    }
   ],
   "source": [
    "data1 = [('Item1', 1),('Item2', 1)]\n",
    "data2 = [('Item3', 1),('Item4', 1)]\n",
    "rdd1=spark.sparkContext.parallelize(data1)\n",
    "rdd2=spark.sparkContext.parallelize(data2)\n",
    "rdd3 =rdd1.union(rdd2)\n",
    "for element in rdd3.collect():\n",
    " print(element)"
   ]
  },
  {
   "cell_type": "markdown",
   "id": "dddec211",
   "metadata": {},
   "source": [
    "Transformer: reduceByKey()"
   ]
  },
  {
   "cell_type": "code",
   "execution_count": 4,
   "id": "7e1256e8",
   "metadata": {},
   "outputs": [
    {
     "name": "stderr",
     "output_type": "stream",
     "text": [
      "\r",
      "[Stage 1:===============================================>         (20 + 4) / 24]\r"
     ]
    },
    {
     "name": "stdout",
     "output_type": "stream",
     "text": [
      "('Item3', 1)\n",
      "('Item1', 2)\n",
      "('Item2', 1)\n"
     ]
    },
    {
     "name": "stderr",
     "output_type": "stream",
     "text": [
      "\r",
      "                                                                                \r"
     ]
    }
   ],
   "source": [
    "data = [('Item1', 1),('Item2', 1),('Item3', 1),('Item1', 1)]\n",
    "rdd=spark.sparkContext.parallelize(data)\n",
    "rdd2=rdd.reduceByKey(lambda a,b: a+b)\n",
    "for element in rdd2.collect():\n",
    " print(element)"
   ]
  },
  {
   "cell_type": "markdown",
   "id": "e445d17e",
   "metadata": {},
   "source": [
    "Transformer: sortByKey()"
   ]
  },
  {
   "cell_type": "code",
   "execution_count": 5,
   "id": "687a0456",
   "metadata": {},
   "outputs": [
    {
     "name": "stdout",
     "output_type": "stream",
     "text": [
      "(1, 'Item2')\n",
      "(2, 'Item1')\n",
      "(3, 'Item3')\n"
     ]
    }
   ],
   "source": [
    "data = [('Item1', 1),('Item2', 1),('Item3', 1),('Item1', 1),('Item3', 1),('Item3', 1)]\n",
    "rdd=spark.sparkContext.parallelize(data)\n",
    "rdd2=rdd.reduceByKey(lambda a,b: a+b)\n",
    "rdd3 = rdd2.map(lambda x: (x[1],x[0])).sortByKey()\n",
    "for element in rdd3.collect():\n",
    " print(element)"
   ]
  },
  {
   "cell_type": "markdown",
   "id": "36d59430",
   "metadata": {},
   "source": [
    "Action: collect"
   ]
  },
  {
   "cell_type": "code",
   "execution_count": 6,
   "id": "5300ac2d",
   "metadata": {},
   "outputs": [
    {
     "name": "stdout",
     "output_type": "stream",
     "text": [
      "[1, 2, 3, 4, 5, 6, 7]\n"
     ]
    }
   ],
   "source": [
    "listRdd = spark.sparkContext.parallelize([1,2,3,4,5,6,7])\n",
    "data = listRdd.collect()\n",
    "print(data)"
   ]
  },
  {
   "cell_type": "markdown",
   "id": "33e01514",
   "metadata": {},
   "source": [
    "Action: first"
   ]
  },
  {
   "cell_type": "code",
   "execution_count": 7,
   "id": "2f3cb7ae",
   "metadata": {},
   "outputs": [
    {
     "name": "stdout",
     "output_type": "stream",
     "text": [
      "first :  1\n"
     ]
    }
   ],
   "source": [
    "print(\"first :  \"+str(listRdd.first()))"
   ]
  },
  {
   "cell_type": "markdown",
   "id": "74542f4a",
   "metadata": {},
   "source": [
    "Action: max"
   ]
  },
  {
   "cell_type": "code",
   "execution_count": 8,
   "id": "2b9b5be5",
   "metadata": {},
   "outputs": [
    {
     "name": "stdout",
     "output_type": "stream",
     "text": [
      "max :  7\n"
     ]
    }
   ],
   "source": [
    "print(\"max :  \"+str(listRdd.max()))"
   ]
  },
  {
   "cell_type": "markdown",
   "id": "57cb402f",
   "metadata": {},
   "source": [
    "# Exercise 3a"
   ]
  },
  {
   "cell_type": "markdown",
   "id": "de0bcbc5",
   "metadata": {},
   "source": [
    "Broadcast will send a shared variable (such as hashing table) to all nodes and they will cache it. \n",
    "This mechanism is actually a pointer to that value. In this case there is no need to send a copy of whole datasets to all \n",
    "machines to implement them or to all tasks separately. It reduces the cost of network communication. Tasks process \n",
    "the mapping and connect the data to the hashing table that comes from the broadcasting. Nodes are the holder of distributed \n",
    "datasets, which will process tasks."
   ]
  },
  {
   "cell_type": "markdown",
   "id": "c33f3d4a",
   "metadata": {},
   "source": [
    "# Exercise 3b"
   ]
  },
  {
   "cell_type": "markdown",
   "id": "ecbb156b",
   "metadata": {},
   "source": [
    "Accumulator aggregate multiple values at the same time, which can be done by reduce function too but in it you have to send back all of the values together in one structure. In video he explains a filter example in which we want to skip bad records and bas bytes with the help of accumulator. To define a custom accumulator, we create a class and an implicit object in it and the rest of functions in it.\n",
    "Accumulator mechanism:\n",
    "Accumulators are variables that are only “added” to through an associative operation and can therefore, be efficiently supported in parallel. They can be used to implement counters (as in MapReduce) or sums. Spark natively supports accumulators of numeric types, and programmers can add support for new types.\n",
    "In reduce function:\n",
    "•  each partition is processed sequentially element by element \n",
    "•  multiple partitions can be processed at the same time either by a single worker (multiple executor threads) or different workers \n",
    "•  partial results are fetched to the driver where the final reduction is applied"
   ]
  },
  {
   "cell_type": "markdown",
   "id": "e58de3d1",
   "metadata": {},
   "source": [
    "# Exercise 3c"
   ]
  },
  {
   "cell_type": "markdown",
   "id": "de350f75",
   "metadata": {},
   "source": [
    "partitionBy(), join(), reducedByKey(). Partitioning will use the benefit of network bandwidth by controlling the partitioning of RDD contents across nodes. By use of the partitioning (the datasets across the machines partitioned) and sending the ranks to the machine that has the corresponding links for that hash code. Spark did it by:\n",
    "each RDD has an optional partitioner object, any shuffle operation on an RDD with a partitioner will respect that partitioner, any shuffle operation on two RDDs will take on the partitioner of one of them, if one is set, otherwise by default use hashpartitioner. \n",
    "To make a custom partitioner :by making a class of extending the partitioner, in which some method such as number of partitions, getting the partition and equal should be made.\n"
   ]
  },
  {
   "cell_type": "markdown",
   "id": "ed89c003",
   "metadata": {},
   "source": [
    "Exercise 4a\n",
    "----------------"
   ]
  },
  {
   "cell_type": "code",
   "execution_count": 9,
   "id": "30dab87d",
   "metadata": {
    "scrolled": true
   },
   "outputs": [],
   "source": [
    "\n",
    "_dataset_path = os.path.abspath(os.path.join(os.getcwd(), 'adult/adult.test'))\n",
    "adult_dataset = sc.textFile(_dataset_path)"
   ]
  },
  {
   "cell_type": "code",
   "execution_count": 10,
   "id": "f8e6a790",
   "metadata": {},
   "outputs": [
    {
     "name": "stdout",
     "output_type": "stream",
     "text": [
      "root\n",
      " |-- age: string (nullable = true)\n",
      " |-- workclass: string (nullable = true)\n",
      " |-- fnlwgt: string (nullable = true)\n",
      " |-- education: string (nullable = true)\n",
      " |-- education_num: string (nullable = true)\n",
      " |-- marital_status: string (nullable = true)\n",
      " |-- occupation: string (nullable = true)\n",
      " |-- relationship: string (nullable = true)\n",
      " |-- race: string (nullable = true)\n",
      " |-- sex: string (nullable = true)\n",
      " |-- capital_gain: string (nullable = true)\n",
      " |-- capital_loss: string (nullable = true)\n",
      " |-- hours_per_week: string (nullable = true)\n",
      " |-- native_country: string (nullable = true)\n",
      " |-- income: string (nullable = true)\n",
      "\n",
      "+---+----------------+------+------------+-------------+------------------+-----------------+-------------+------------------+------+------------+------------+--------------+--------------+------+\n",
      "|age|       workclass|fnlwgt|   education|education_num|    marital_status|       occupation| relationship|              race|   sex|capital_gain|capital_loss|hours_per_week|native_country|income|\n",
      "+---+----------------+------+------------+-------------+------------------+-----------------+-------------+------------------+------+------------+------------+--------------+--------------+------+\n",
      "| 25|         Private|226802|        11th|            7|     Never-married|Machine-op-inspct|    Own-child|             Black|  Male|           0|           0|            40| United-States|<=50K.|\n",
      "| 38|         Private| 89814|     HS-grad|            9|Married-civ-spouse|  Farming-fishing|      Husband|             White|  Male|           0|           0|            50| United-States|<=50K.|\n",
      "| 28|       Local-gov|336951|  Assoc-acdm|           12|Married-civ-spouse|  Protective-serv|      Husband|             White|  Male|           0|           0|            40| United-States| >50K.|\n",
      "| 44|         Private|160323|Some-college|           10|Married-civ-spouse|Machine-op-inspct|      Husband|             Black|  Male|        7688|           0|            40| United-States| >50K.|\n",
      "| 18|               ?|103497|Some-college|           10|     Never-married|                ?|    Own-child|             White|Female|           0|           0|            30| United-States|<=50K.|\n",
      "| 34|         Private|198693|        10th|            6|     Never-married|    Other-service|Not-in-family|             White|  Male|           0|           0|            30| United-States|<=50K.|\n",
      "| 29|               ?|227026|     HS-grad|            9|     Never-married|                ?|    Unmarried|             Black|  Male|           0|           0|            40| United-States|<=50K.|\n",
      "| 63|Self-emp-not-inc|104626| Prof-school|           15|Married-civ-spouse|   Prof-specialty|      Husband|             White|  Male|        3103|           0|            32| United-States| >50K.|\n",
      "| 24|         Private|369667|Some-college|           10|     Never-married|    Other-service|    Unmarried|             White|Female|           0|           0|            40| United-States|<=50K.|\n",
      "| 55|         Private|104996|     7th-8th|            4|Married-civ-spouse|     Craft-repair|      Husband|             White|  Male|           0|           0|            10| United-States|<=50K.|\n",
      "| 65|         Private|184454|     HS-grad|            9|Married-civ-spouse|Machine-op-inspct|      Husband|             White|  Male|        6418|           0|            40| United-States| >50K.|\n",
      "| 36|     Federal-gov|212465|   Bachelors|           13|Married-civ-spouse|     Adm-clerical|      Husband|             White|  Male|           0|           0|            40| United-States|<=50K.|\n",
      "| 26|         Private| 82091|     HS-grad|            9|     Never-married|     Adm-clerical|Not-in-family|             White|Female|           0|           0|            39| United-States|<=50K.|\n",
      "| 58|               ?|299831|     HS-grad|            9|Married-civ-spouse|                ?|      Husband|             White|  Male|           0|           0|            35| United-States|<=50K.|\n",
      "| 48|         Private|279724|     HS-grad|            9|Married-civ-spouse|Machine-op-inspct|      Husband|             White|  Male|        3103|           0|            48| United-States| >50K.|\n",
      "| 43|         Private|346189|     Masters|           14|Married-civ-spouse|  Exec-managerial|      Husband|             White|  Male|           0|           0|            50| United-States| >50K.|\n",
      "| 20|       State-gov|444554|Some-college|           10|     Never-married|    Other-service|    Own-child|             White|  Male|           0|           0|            25| United-States|<=50K.|\n",
      "| 43|         Private|128354|     HS-grad|            9|Married-civ-spouse|     Adm-clerical|         Wife|             White|Female|           0|           0|            30| United-States|<=50K.|\n",
      "| 37|         Private| 60548|     HS-grad|            9|           Widowed|Machine-op-inspct|    Unmarried|             White|Female|           0|           0|            20| United-States|<=50K.|\n",
      "| 40|         Private| 85019|   Doctorate|           16|Married-civ-spouse|   Prof-specialty|      Husband|Asian-Pac-Islander|  Male|           0|           0|            45|             ?| >50K.|\n",
      "+---+----------------+------+------------+-------------+------------------+-----------------+-------------+------------------+------+------------+------------+--------------+--------------+------+\n",
      "only showing top 20 rows\n",
      "\n"
     ]
    }
   ],
   "source": [
    "columns = ['age', 'workclass', 'fnlwgt', 'education', 'education_num',\n",
    "          'marital_status', 'occupation', 'relationship',\n",
    "          'race', 'sex', 'capital_gain', 'capital_loss', 'hours_per_week',\n",
    "          'native_country', 'income']\n",
    "# faulty entries\n",
    "pieces = adult_dataset.map(lambda row: [y.strip() for y in x] if len(x := row.split(',')) == 15 \n",
    "                           else [None for x in range(15)])\n",
    "df = pieces.toDF(columns)\n",
    "# filter out the faulty entries\n",
    "df = df.filter(df[\"age\"] != 'NULL')\n",
    "df.printSchema()\n",
    "df.show()"
   ]
  },
  {
   "cell_type": "code",
   "execution_count": 11,
   "id": "79433570",
   "metadata": {},
   "outputs": [
    {
     "name": "stdout",
     "output_type": "stream",
     "text": [
      "root\n",
      " |-- age: string (nullable = true)\n",
      " |-- workclass: string (nullable = true)\n",
      " |-- education: string (nullable = true)\n",
      " |-- education_num: string (nullable = true)\n",
      " |-- marital_status: string (nullable = true)\n",
      " |-- sex: string (nullable = true)\n",
      " |-- capital_gain: string (nullable = true)\n",
      " |-- capital_loss: string (nullable = true)\n",
      " |-- hours_per_week: string (nullable = true)\n",
      " |-- native_country: string (nullable = true)\n",
      " |-- income: string (nullable = true)\n",
      "\n",
      "+---+----------------+------------+-------------+------------------+------+------------+------------+--------------+--------------+------+\n",
      "|age|       workclass|   education|education_num|    marital_status|   sex|capital_gain|capital_loss|hours_per_week|native_country|income|\n",
      "+---+----------------+------------+-------------+------------------+------+------------+------------+--------------+--------------+------+\n",
      "| 25|         Private|        11th|            7|     Never-married|  Male|           0|           0|            40| United-States|<=50K.|\n",
      "| 38|         Private|     HS-grad|            9|Married-civ-spouse|  Male|           0|           0|            50| United-States|<=50K.|\n",
      "| 28|       Local-gov|  Assoc-acdm|           12|Married-civ-spouse|  Male|           0|           0|            40| United-States| >50K.|\n",
      "| 44|         Private|Some-college|           10|Married-civ-spouse|  Male|        7688|           0|            40| United-States| >50K.|\n",
      "| 18|               ?|Some-college|           10|     Never-married|Female|           0|           0|            30| United-States|<=50K.|\n",
      "| 34|         Private|        10th|            6|     Never-married|  Male|           0|           0|            30| United-States|<=50K.|\n",
      "| 29|               ?|     HS-grad|            9|     Never-married|  Male|           0|           0|            40| United-States|<=50K.|\n",
      "| 63|Self-emp-not-inc| Prof-school|           15|Married-civ-spouse|  Male|        3103|           0|            32| United-States| >50K.|\n",
      "| 24|         Private|Some-college|           10|     Never-married|Female|           0|           0|            40| United-States|<=50K.|\n",
      "| 55|         Private|     7th-8th|            4|Married-civ-spouse|  Male|           0|           0|            10| United-States|<=50K.|\n",
      "| 65|         Private|     HS-grad|            9|Married-civ-spouse|  Male|        6418|           0|            40| United-States| >50K.|\n",
      "| 36|     Federal-gov|   Bachelors|           13|Married-civ-spouse|  Male|           0|           0|            40| United-States|<=50K.|\n",
      "| 26|         Private|     HS-grad|            9|     Never-married|Female|           0|           0|            39| United-States|<=50K.|\n",
      "| 58|               ?|     HS-grad|            9|Married-civ-spouse|  Male|           0|           0|            35| United-States|<=50K.|\n",
      "| 48|         Private|     HS-grad|            9|Married-civ-spouse|  Male|        3103|           0|            48| United-States| >50K.|\n",
      "| 43|         Private|     Masters|           14|Married-civ-spouse|  Male|           0|           0|            50| United-States| >50K.|\n",
      "| 20|       State-gov|Some-college|           10|     Never-married|  Male|           0|           0|            25| United-States|<=50K.|\n",
      "| 43|         Private|     HS-grad|            9|Married-civ-spouse|Female|           0|           0|            30| United-States|<=50K.|\n",
      "| 37|         Private|     HS-grad|            9|           Widowed|Female|           0|           0|            20| United-States|<=50K.|\n",
      "| 40|         Private|   Doctorate|           16|Married-civ-spouse|  Male|           0|           0|            45|             ?| >50K.|\n",
      "+---+----------------+------------+-------------+------------------+------+------------+------------+--------------+--------------+------+\n",
      "only showing top 20 rows\n",
      "\n"
     ]
    }
   ],
   "source": [
    "columns_to_remove = ['fnlwgt', 'occupation', 'relationship', 'race']\n",
    "df = df.drop(*columns_to_remove)\n",
    "df.printSchema()\n",
    "df.show()"
   ]
  },
  {
   "cell_type": "markdown",
   "id": "d05d5854",
   "metadata": {},
   "source": [
    "Exercise 4b\n",
    "----------------\n"
   ]
  },
  {
   "cell_type": "code",
   "execution_count": 14,
   "id": "62a86ba8",
   "metadata": {},
   "outputs": [
    {
     "name": "stdout",
     "output_type": "stream",
     "text": [
      "+--------------------+----------+------------+---------------------+\n",
      "|      marital_status|male_count|female_count|male_ratio_percentage|\n",
      "+--------------------+----------+------------+---------------------+\n",
      "|           Separated|       205|         300|                   41|\n",
      "|       Never-married|      2983|        2451|                   55|\n",
      "|Married-spouse-ab...|       111|          99|                   53|\n",
      "|            Divorced|       861|        1329|                   40|\n",
      "|             Widowed|       117|         408|                   23|\n",
      "|   Married-AF-spouse|         3|          11|                   22|\n",
      "|  Married-civ-spouse|      6580|         823|                   89|\n",
      "+--------------------+----------+------------+---------------------+\n",
      "\n"
     ]
    }
   ],
   "source": [
    "male_df = df.select(df[\"marital_status\"], df[\"sex\"]\n",
    "                   ).filter(df[\"sex\"] == \"Male\").groupBy('marital_status').count(\n",
    ").withColumnRenamed(\"count\", \"male_count\")\n",
    "\n",
    "female_df = df.select(df[\"marital_status\"], df[\"sex\"]\n",
    "                   ).filter(df[\"sex\"] == \"Female\").groupBy('marital_status').count(\n",
    ").withColumnRenamed(\"count\", \"female_count\")\n",
    "\n",
    "joined_df = male_df.join(female_df, 'marital_status')\n",
    "joined_df = joined_df.withColumn('male_ratio_percentage', F.ceil((F.col('male_count') \n",
    "                                                / (F.col('male_count') + F.col('female_count'))\n",
    "                                               ) * 100))\n",
    "joined_df.show()"
   ]
  },
  {
   "cell_type": "markdown",
   "id": "029364e5",
   "metadata": {},
   "source": [
    "Exercise 4c\n",
    "----------------"
   ]
  },
  {
   "cell_type": "code",
   "execution_count": 17,
   "id": "73368ecd",
   "metadata": {
    "scrolled": true
   },
   "outputs": [
    {
     "name": "stdout",
     "output_type": "stream",
     "text": [
      "+--------------+--------------+\n",
      "|hours_per_week|native_country|\n",
      "+--------------+--------------+\n",
      "|            36| United-States|\n",
      "|            10| United-States|\n",
      "|            10| United-States|\n",
      "|            40| United-States|\n",
      "|            40| United-States|\n",
      "|            38| United-States|\n",
      "|            50| United-States|\n",
      "|            50| United-States|\n",
      "|            40| United-States|\n",
      "|            45| United-States|\n",
      "|            50| United-States|\n",
      "|            40| United-States|\n",
      "|            12| United-States|\n",
      "|            35| United-States|\n",
      "|            50| United-States|\n",
      "|            24| United-States|\n",
      "|            40| United-States|\n",
      "|            40| United-States|\n",
      "|            10| United-States|\n",
      "|            40| United-States|\n",
      "+--------------+--------------+\n",
      "only showing top 20 rows\n",
      "\n"
     ]
    }
   ],
   "source": [
    "df_4c = df.filter(\n",
    "    df[\"sex\"] == 'Female'\n",
    ").filter(\n",
    "    df[\"income\"] == \">50K.\"\n",
    ").select(\n",
    "    df[\"hours_per_week\"], df[\"native_country\"]\n",
    ")\n",
    "# df_4c = df_4c.groupBy(\"native_country\").count()\n",
    "# df_4c = df_4c.agg(F.mean(\"hours_per_week\"), F.count(\"native_country\"))\n",
    "# df_4c = df_4c.groupBy(\"native_country\").count()\n",
    "df_4c.show()"
   ]
  }
 ],
 "metadata": {
  "kernelspec": {
   "display_name": "Python (3.10)",
   "language": "python",
   "name": "py310"
  },
  "language_info": {
   "codemirror_mode": {
    "name": "ipython",
    "version": 3
   },
   "file_extension": ".py",
   "mimetype": "text/x-python",
   "name": "python",
   "nbconvert_exporter": "python",
   "pygments_lexer": "ipython3",
   "version": "3.10.6"
  }
 },
 "nbformat": 4,
 "nbformat_minor": 5
}
