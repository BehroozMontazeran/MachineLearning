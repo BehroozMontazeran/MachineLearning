{
 "cells": [
  {
   "cell_type": "code",
   "execution_count": 1,
   "id": "674183f2",
   "metadata": {},
   "outputs": [],
   "source": [
    "#pip install pyglet\n",
    "#pip install PyOpenGL\n",
    "#pip install ffmpeg\n",
    "#pip install xvfbwrapper\n",
    "#pip install PyVirtualDisplay\n",
    "#pip install pygame\n",
    "#pip install gym\n",
    "#pip install imageio imageio-ffmpeg\n",
    "#conda install -n base -c conda-forge widgetsnbextension"
   ]
  },
  {
   "cell_type": "code",
   "execution_count": 2,
   "id": "85267f17",
   "metadata": {},
   "outputs": [],
   "source": [
    "from pyvirtualdisplay import Display\n",
    "import numpy as np\n",
    "import gym\n",
    "import random\n",
    "import imageio\n",
    "from tqdm.notebook import trange"
   ]
  },
  {
   "cell_type": "code",
   "execution_count": 3,
   "id": "96fe6365",
   "metadata": {},
   "outputs": [],
   "source": [
    "# virtual_display = Display(visible=0, size=(1400, 900))\n",
    "# virtual_display.start()"
   ]
  },
  {
   "cell_type": "code",
   "execution_count": 4,
   "id": "8c0b6727",
   "metadata": {},
   "outputs": [
    {
     "name": "stdout",
     "output_type": "stream",
     "text": [
      "Observation Spacce Discrete(16)\n",
      "Sample Observation 8\n"
     ]
    }
   ],
   "source": [
    "env = gym.make(\"FrozenLake-v1\",render_mode=\"rgb_array\",map_name=\"4x4\", is_slippery=False)\n",
    "print(\"Observation Spacce\", env.observation_space)\n",
    "# display a random observation\n",
    "print(\"Sample Observation\", env.observation_space.sample())"
   ]
  },
  {
   "cell_type": "code",
   "execution_count": 5,
   "id": "1ad70235",
   "metadata": {},
   "outputs": [],
   "source": [
    "state_space = env.observation_space.n\n",
    "action_space = env.action_space.n\n",
    "#initializing qtable with 0 values\n",
    "def initialize_q_table(state_space, action_space):\n",
    "    Qtable = np.zeros((state_space, action_space))\n",
    "    return Qtable\n",
    "\n",
    "\"\"\"\n",
    "With a Probability of 1 - ɛ, we do exploitation, and with the probability ɛ,\n",
    "we do exploration. \n",
    "In the epsilon_greedy_policy we will:\n",
    "1-Generate the random number between 0 to 1.\n",
    "2-If the random number is greater than epsilon, we will do exploitation.\n",
    "    It means that the agent will take the action with the highest value given\n",
    "    a state.\n",
    "3-Else, we will do exploration (Taking random action). \n",
    "\n",
    "\"\"\"\n",
    "def epsilon_greedy_policy(Qtable, state, epsilon):\n",
    "    random_int = random.uniform(0,1)\n",
    "    if random_int > epsilon:\n",
    "        action = np.argmax(Qtable[state])\n",
    "    else:\n",
    "        action = env.action_space.sample()\n",
    "    return action\n",
    "\"\"\"\n",
    "Q-learning is an off-policy algorithm which means that the policy of \n",
    "   taking action and updating function is different.\n",
    "In this example, the Epsilon Greedy policy is acting policy, and \n",
    "   the Greedy policy is updating policy.\n",
    "The Greedy policy will also be the final policy when the agent is trained.\n",
    "   It is used to select the highest state and action value from the Q-Table.\n",
    "\"\"\"\n",
    "def greedy_policy(Qtable, state):\n",
    "    action = np.argmax(Qtable[state])\n",
    "    return action\n",
    "\n",
    "Qtable_frozenlake = initialize_q_table(state_space, action_space)"
   ]
  },
  {
   "cell_type": "code",
   "execution_count": 6,
   "id": "63bf7363",
   "metadata": {},
   "outputs": [],
   "source": [
    "#Training parameters\n",
    "n_traintaing_episodes = 10000\n",
    "learning_rate = 0.7\n",
    "#Evaluation_parameters\n",
    "n_eval_episodes = 100\n",
    "#Environment parameters\n",
    "env_id = \"FrozenLake-v1\"\n",
    "max_steps = 99\n",
    "gamma = 0.95\n",
    "eval_seed = []\n",
    "#Exploration parameters\n",
    "max_epsilon = 1.0\n",
    "min_epsilon = 0.05\n",
    "decay_rate = 0.0005"
   ]
  },
  {
   "cell_type": "code",
   "execution_count": 7,
   "id": "2f13db22",
   "metadata": {},
   "outputs": [
    {
     "data": {
      "application/vnd.jupyter.widget-view+json": {
       "model_id": "52796f5b1bdc4d3aba86821e95f8b522",
       "version_major": 2,
       "version_minor": 0
      },
      "text/plain": [
       "  0%|          | 0/10000 [00:00<?, ?it/s]"
      ]
     },
     "metadata": {},
     "output_type": "display_data"
    },
    {
     "name": "stderr",
     "output_type": "stream",
     "text": [
      "C:\\Users\\Behro\\anaconda3\\lib\\site-packages\\gym\\utils\\passive_env_checker.py:233: DeprecationWarning: `np.bool8` is a deprecated alias for `np.bool_`.  (Deprecated NumPy 1.24)\n",
      "  if not isinstance(terminated, (bool, np.bool8)):\n"
     ]
    }
   ],
   "source": [
    "def train(n_training_episodes, min_epsilon, max_epsilon, decay_rate, env, max_steps, Qtable):\n",
    "    for episode in trange(n_training_episodes):\n",
    "        epsilon = min_epsilon + (max_epsilon - min_epsilon)*np.exp(-decay_rate*episode)\n",
    "        #Reset the environment\n",
    "        state = env.reset()[0]\n",
    "        step = 0\n",
    "        done = False\n",
    "        \n",
    "        #repeat\n",
    "        for step in range(max_steps):\n",
    "            action = epsilon_greedy_policy(Qtable, state, epsilon)\n",
    "            new_state, reward, done, info, _ = env.step(action)\n",
    "            Qtable[state][action] = Qtable[state][action] + learning_rate*(reward + gamma * np.max(Qtable[new_state]) - Qtable[state][action])\n",
    "            #if done, finish the episode\n",
    "            if done:\n",
    "                break\n",
    "                \n",
    "            #update state\n",
    "            state = new_state\n",
    "    return Qtable\n",
    "    \n",
    "Qtable_frozenlake = train(n_training_episodes, min_epsilon, max_epsilon, decay_rate, env, max_steps, Qtable_frozenlake)"
   ]
  },
  {
   "cell_type": "code",
   "execution_count": 8,
   "id": "f359e7c3",
   "metadata": {},
   "outputs": [
    {
     "data": {
      "text/plain": [
       "array([[0.73509189, 0.77378094, 0.77378094, 0.73509189],\n",
       "       [0.73509189, 0.        , 0.81450625, 0.77378094],\n",
       "       [0.77378094, 0.857375  , 0.77378094, 0.81450625],\n",
       "       [0.81450625, 0.        , 0.77378094, 0.77378094],\n",
       "       [0.77378094, 0.81450625, 0.        , 0.73509189],\n",
       "       [0.        , 0.        , 0.        , 0.        ],\n",
       "       [0.        , 0.9025    , 0.        , 0.81450625],\n",
       "       [0.        , 0.        , 0.        , 0.        ],\n",
       "       [0.81450625, 0.        , 0.857375  , 0.77378094],\n",
       "       [0.81450625, 0.9025    , 0.9025    , 0.        ],\n",
       "       [0.857375  , 0.95      , 0.        , 0.857375  ],\n",
       "       [0.        , 0.        , 0.        , 0.        ],\n",
       "       [0.        , 0.        , 0.        , 0.        ],\n",
       "       [0.        , 0.9025    , 0.95      , 0.857375  ],\n",
       "       [0.9025    , 0.95      , 1.        , 0.9025    ],\n",
       "       [0.        , 0.        , 0.        , 0.        ]])"
      ]
     },
     "execution_count": 8,
     "metadata": {},
     "output_type": "execute_result"
    }
   ],
   "source": [
    "Qtable_frozenlake"
   ]
  },
  {
   "cell_type": "code",
   "execution_count": 9,
   "id": "23d0cec6",
   "metadata": {},
   "outputs": [
    {
     "name": "stdout",
     "output_type": "stream",
     "text": [
      "Mean_reward=1.00 +/- 0.00\n"
     ]
    }
   ],
   "source": [
    "def evaluate_agent(env, max_steps, n_eval_episodes, Q, seed):\n",
    "    episode_rewards = []\n",
    "    for episode in range(n_eval_episodes):\n",
    "        if seed:\n",
    "            state = env.reset(seed=seed[episode])[0]\n",
    "        else:\n",
    "            state = env.reset()[0]\n",
    "        step = 0\n",
    "        done = False\n",
    "        total_rewards_ep = 0\n",
    "\n",
    "        for step in range(max_steps):\n",
    "            # Take the action (index) that have the maximum reward\n",
    "            action = np.argmax(Q[state][:])\n",
    "            new_state, reward, done, info, _ = env.step(action)\n",
    "            total_rewards_ep += reward\n",
    "\n",
    "            if done:\n",
    "                break\n",
    "            state = new_state\n",
    "        episode_rewards.append(total_rewards_ep)\n",
    "    mean_reward = np.mean(episode_rewards)\n",
    "    std_reward = np.std(episode_rewards)\n",
    "\n",
    "    return mean_reward, std_reward\n",
    "\n",
    "# Evaluate our Agent\n",
    "mean_reward, std_reward = evaluate_agent(env, max_steps, n_eval_episodes, Qtable_frozenlake, eval_seed)\n",
    "print(f\"Mean_reward={mean_reward:.2f} +/- {std_reward:.2f}\")"
   ]
  },
  {
   "cell_type": "code",
   "execution_count": 10,
   "id": "f68b122e",
   "metadata": {},
   "outputs": [],
   "source": [
    "def record_video(env, Qtable, out_directory, fps=1):\n",
    "    images = [] \n",
    "    done = False\n",
    "    state = env.reset(seed=random.randint(0,500))[0]\n",
    "    img = env.render()#mode='rgb_array'\n",
    "    images.append(img)\n",
    "    while not done:\n",
    "        # Take the action (index) that have the maximum expected future reward given that state\n",
    "        action = np.argmax(Qtable[state][:])\n",
    "        state, reward, done, info, _ = env.step(action) # We directly put next_state = state for recording logic\n",
    "        img = env.render()\n",
    "        images.append(img)\n",
    "    imageio.mimsave(out_directory, [np.array(img) for i, img in enumerate(images)], duration=400)\n",
    "    \n",
    "    \n",
    "video_path=\"~/content/replay.gif\"\n",
    "video_fps=1\n",
    "record_video(env, Qtable_frozenlake, video_path, video_fps)\n",
    "\n",
    "# from IPython.display import Image\n",
    "# Image('~/content/replay.gif')"
   ]
  },
  {
   "cell_type": "code",
   "execution_count": null,
   "id": "0ce65d50",
   "metadata": {},
   "outputs": [],
   "source": []
  }
 ],
 "metadata": {
  "kernelspec": {
   "display_name": "Python 3 (ipykernel)",
   "language": "python",
   "name": "python3"
  },
  "language_info": {
   "codemirror_mode": {
    "name": "ipython",
    "version": 3
   },
   "file_extension": ".py",
   "mimetype": "text/x-python",
   "name": "python",
   "nbconvert_exporter": "python",
   "pygments_lexer": "ipython3",
   "version": "3.10.12"
  }
 },
 "nbformat": 4,
 "nbformat_minor": 5
}
