{
 "cells": [
  {
   "cell_type": "code",
   "execution_count": 68,
   "id": "afdbe0e5",
   "metadata": {},
   "outputs": [],
   "source": [
    "from scipy.spatial import distance\n",
    "import numpy as np\n",
    "A = [3.06,500,6]\n",
    "B = [2.68,320,4]\n",
    "C = [2.92,640,6]\n",
    "A_arr = np.array(A)\n",
    "B_arr = np.array(B)\n",
    "C_arr = np.array(C)\n",
    "dff = [A,B,C]\n",
    "dff_arr = np.array(dff)"
   ]
  },
  {
   "cell_type": "markdown",
   "id": "96215934",
   "metadata": {},
   "source": [
    "# Alfa=Beta=1"
   ]
  },
  {
   "cell_type": "code",
   "execution_count": 2,
   "id": "e995d840",
   "metadata": {},
   "outputs": [
    {
     "name": "stdout",
     "output_type": "stream",
     "text": [
      "89.99984720840851\n"
     ]
    }
   ],
   "source": [
    "print(np.arccos(distance.cosine(A_arr,B_arr))*180/np.pi)"
   ]
  },
  {
   "cell_type": "code",
   "execution_count": 3,
   "id": "bd67d1e5",
   "metadata": {},
   "outputs": [
    {
     "name": "stdout",
     "output_type": "stream",
     "text": [
      "89.99930404967479\n"
     ]
    }
   ],
   "source": [
    "print(np.arccos(distance.cosine(B_arr,C_arr))*180/np.pi)"
   ]
  },
  {
   "cell_type": "code",
   "execution_count": 4,
   "id": "7980f3bd",
   "metadata": {},
   "outputs": [
    {
     "name": "stdout",
     "output_type": "stream",
     "text": [
      "89.99973318051175\n"
     ]
    }
   ],
   "source": [
    "print(np.arccos(distance.cosine(A_arr,C_arr))*180/np.pi)"
   ]
  },
  {
   "cell_type": "markdown",
   "id": "005fa350",
   "metadata": {},
   "source": [
    "# Alfa= 0.01, Beta=0.5"
   ]
  },
  {
   "cell_type": "code",
   "execution_count": 5,
   "id": "e7d5548b",
   "metadata": {},
   "outputs": [
    {
     "name": "stdout",
     "output_type": "stream",
     "text": [
      "89.98536938973403\n"
     ]
    }
   ],
   "source": [
    "print(np.arccos(distance.cosine(A_arr,B_arr,w=[1,0.01,0.5]))*180/np.pi)"
   ]
  },
  {
   "cell_type": "code",
   "execution_count": 6,
   "id": "4de613ed",
   "metadata": {},
   "outputs": [
    {
     "name": "stdout",
     "output_type": "stream",
     "text": [
      "89.94544634563098\n"
     ]
    }
   ],
   "source": [
    "print(np.arccos(distance.cosine(B_arr,C_arr,w=[1,0.01,0.5]))*180/np.pi)"
   ]
  },
  {
   "cell_type": "code",
   "execution_count": 7,
   "id": "481b0369",
   "metadata": {},
   "outputs": [
    {
     "name": "stdout",
     "output_type": "stream",
     "text": [
      "89.98346628515755\n"
     ]
    }
   ],
   "source": [
    "print(np.arccos(distance.cosine(A_arr,C_arr,w=[1,0.01,0.5]))*180/np.pi)"
   ]
  },
  {
   "cell_type": "markdown",
   "id": "986deb4f",
   "metadata": {},
   "source": [
    "# Part C: If after scaling Alpha=Beta=1"
   ]
  },
  {
   "cell_type": "code",
   "execution_count": 8,
   "id": "7d8062b0",
   "metadata": {},
   "outputs": [
    {
     "data": {
      "text/plain": [
       "array([[1.06004619, 1.02739726, 1.125     ],\n",
       "       [0.92840647, 0.65753425, 0.75      ],\n",
       "       [1.01154734, 1.31506849, 1.125     ]])"
      ]
     },
     "execution_count": 8,
     "metadata": {},
     "output_type": "execute_result"
    }
   ],
   "source": [
    "scaled=[]\n",
    "i=range(3)\n",
    "for i in range(3):\n",
    "    for n in dff_arr[:,i]:\n",
    "        scaled.append(n/(np.sum(dff_arr[:,i])/len(dff_arr[:,i])))\n",
    "\n",
    "scaled = np.reshape(scaled,(3,3)).T\n",
    "scaled"
   ]
  },
  {
   "cell_type": "code",
   "execution_count": 9,
   "id": "a28b0a66",
   "metadata": {},
   "outputs": [
    {
     "name": "stdout",
     "output_type": "stream",
     "text": [
      "88.49832211628535\n"
     ]
    }
   ],
   "source": [
    "print(np.arccos(distance.cosine(scaled[:,0],scaled[:,1]))*180/np.pi)"
   ]
  },
  {
   "cell_type": "code",
   "execution_count": 10,
   "id": "06ce24b7",
   "metadata": {},
   "outputs": [
    {
     "name": "stdout",
     "output_type": "stream",
     "text": [
      "89.5187999827756\n"
     ]
    }
   ],
   "source": [
    "print(np.arccos(distance.cosine(scaled[:,1],scaled[:,2]))*180/np.pi)"
   ]
  },
  {
   "cell_type": "code",
   "execution_count": 11,
   "id": "f7d8a161",
   "metadata": {},
   "outputs": [
    {
     "name": "stdout",
     "output_type": "stream",
     "text": [
      "89.54620380939578\n"
     ]
    }
   ],
   "source": [
    "print(np.arccos(distance.cosine(scaled[:,0],scaled[:,2]))*180/np.pi)"
   ]
  },
  {
   "cell_type": "markdown",
   "id": "b9e17672",
   "metadata": {},
   "source": [
    "# Exercise 2"
   ]
  },
  {
   "cell_type": "markdown",
   "id": "7c6b4ee9",
   "metadata": {},
   "source": [
    "# The competitor can create a user account on the company's website and like some goods in order to find out which similar goods will be suggested, which means that suggested goods has the most popularity among users, at least among most neighbors. This method of stealing data will work when the collaborative filtering system has been implemented. By this type of attack the competitor can find out which goods have the most popularity and match better according to users' interest and sometimes users' purchase. However, this type of attack has negative impact on the filtering system as well. It can result fake similarities, which has produced by fake users such as competitor. By increasing of this kind of attack the system will lose its ability to suggest proper goods as many fake ratings from the competitors happened."
   ]
  },
  {
   "cell_type": "markdown",
   "id": "fa63a44a",
   "metadata": {},
   "source": [
    "# Exercise 3"
   ]
  },
  {
   "cell_type": "code",
   "execution_count": 5,
   "id": "c11943ba",
   "metadata": {},
   "outputs": [
    {
     "data": {
      "text/html": [
       "<div>\n",
       "<style scoped>\n",
       "    .dataframe tbody tr th:only-of-type {\n",
       "        vertical-align: middle;\n",
       "    }\n",
       "\n",
       "    .dataframe tbody tr th {\n",
       "        vertical-align: top;\n",
       "    }\n",
       "\n",
       "    .dataframe thead th {\n",
       "        text-align: right;\n",
       "    }\n",
       "</style>\n",
       "<table border=\"1\" class=\"dataframe\">\n",
       "  <thead>\n",
       "    <tr style=\"text-align: right;\">\n",
       "      <th></th>\n",
       "      <th>a</th>\n",
       "      <th>b</th>\n",
       "      <th>c</th>\n",
       "      <th>d</th>\n",
       "      <th>e</th>\n",
       "      <th>f</th>\n",
       "      <th>g</th>\n",
       "      <th>h</th>\n",
       "    </tr>\n",
       "  </thead>\n",
       "  <tbody>\n",
       "    <tr>\n",
       "      <th>A</th>\n",
       "      <td>4.0</td>\n",
       "      <td>5.0</td>\n",
       "      <td>NaN</td>\n",
       "      <td>5</td>\n",
       "      <td>1.0</td>\n",
       "      <td>2.0</td>\n",
       "      <td>3</td>\n",
       "      <td>2.0</td>\n",
       "    </tr>\n",
       "    <tr>\n",
       "      <th>B</th>\n",
       "      <td>NaN</td>\n",
       "      <td>3.0</td>\n",
       "      <td>4.0</td>\n",
       "      <td>3</td>\n",
       "      <td>1.0</td>\n",
       "      <td>NaN</td>\n",
       "      <td>1</td>\n",
       "      <td>NaN</td>\n",
       "    </tr>\n",
       "    <tr>\n",
       "      <th>C</th>\n",
       "      <td>2.0</td>\n",
       "      <td>NaN</td>\n",
       "      <td>1.0</td>\n",
       "      <td>3</td>\n",
       "      <td>NaN</td>\n",
       "      <td>4.0</td>\n",
       "      <td>5</td>\n",
       "      <td>3.0</td>\n",
       "    </tr>\n",
       "  </tbody>\n",
       "</table>\n",
       "</div>"
      ],
      "text/plain": [
       "     a    b    c  d    e    f  g    h\n",
       "A  4.0  5.0  NaN  5  1.0  2.0  3  2.0\n",
       "B  NaN  3.0  4.0  3  1.0  NaN  1  NaN\n",
       "C  2.0  NaN  1.0  3  NaN  4.0  5  3.0"
      ]
     },
     "execution_count": 5,
     "metadata": {},
     "output_type": "execute_result"
    }
   ],
   "source": [
    "import pandas as pd\n",
    "import numpydoc as np\n",
    "\n",
    "\n",
    "d = {'a': pd.Series([4, 2], index=['A', 'C']), 'b': pd.Series([5, 3], index=['A', 'B']),\n",
    "    'c' : pd.Series([4, 1], index=['B', 'C']), 'd' : [5,3,3], 'e' : pd.Series([1,1], index=['A', 'B']),\n",
    "    'f' : pd.Series([2, 4], index=['A', 'C']), 'g' : [3,1,5], 'h' : pd.Series([2, 3], index=['A', 'C'])}\n",
    "\n",
    "df = pd.DataFrame(data=d, index=['A', 'B', 'C'])\n",
    "df"
   ]
  },
  {
   "cell_type": "code",
   "execution_count": 113,
   "id": "0f785a0d",
   "metadata": {},
   "outputs": [
    {
     "data": {
      "text/html": [
       "<div>\n",
       "<style scoped>\n",
       "    .dataframe tbody tr th:only-of-type {\n",
       "        vertical-align: middle;\n",
       "    }\n",
       "\n",
       "    .dataframe tbody tr th {\n",
       "        vertical-align: top;\n",
       "    }\n",
       "\n",
       "    .dataframe thead th {\n",
       "        text-align: right;\n",
       "    }\n",
       "</style>\n",
       "<table border=\"1\" class=\"dataframe\">\n",
       "  <thead>\n",
       "    <tr style=\"text-align: right;\">\n",
       "      <th></th>\n",
       "      <th>a</th>\n",
       "      <th>b</th>\n",
       "      <th>c</th>\n",
       "      <th>d</th>\n",
       "      <th>e</th>\n",
       "      <th>f</th>\n",
       "      <th>g</th>\n",
       "      <th>h</th>\n",
       "    </tr>\n",
       "  </thead>\n",
       "  <tbody>\n",
       "    <tr>\n",
       "      <th>A</th>\n",
       "      <td>4.0</td>\n",
       "      <td>5.0</td>\n",
       "      <td>0.0</td>\n",
       "      <td>5</td>\n",
       "      <td>1.0</td>\n",
       "      <td>2.0</td>\n",
       "      <td>3</td>\n",
       "      <td>2.0</td>\n",
       "    </tr>\n",
       "    <tr>\n",
       "      <th>B</th>\n",
       "      <td>0.0</td>\n",
       "      <td>3.0</td>\n",
       "      <td>4.0</td>\n",
       "      <td>3</td>\n",
       "      <td>1.0</td>\n",
       "      <td>0.0</td>\n",
       "      <td>1</td>\n",
       "      <td>0.0</td>\n",
       "    </tr>\n",
       "    <tr>\n",
       "      <th>C</th>\n",
       "      <td>2.0</td>\n",
       "      <td>0.0</td>\n",
       "      <td>1.0</td>\n",
       "      <td>3</td>\n",
       "      <td>0.0</td>\n",
       "      <td>4.0</td>\n",
       "      <td>5</td>\n",
       "      <td>3.0</td>\n",
       "    </tr>\n",
       "  </tbody>\n",
       "</table>\n",
       "</div>"
      ],
      "text/plain": [
       "     a    b    c  d    e    f  g    h\n",
       "A  4.0  5.0  0.0  5  1.0  2.0  3  2.0\n",
       "B  0.0  3.0  4.0  3  1.0  0.0  1  0.0\n",
       "C  2.0  0.0  1.0  3  0.0  4.0  5  3.0"
      ]
     },
     "execution_count": 113,
     "metadata": {},
     "output_type": "execute_result"
    }
   ],
   "source": [
    "bool_df = []\n",
    "zero_df = df.fillna(0.0)\n",
    "bool_df = zero_df.astype(bool)\n",
    "bool_df\n",
    "zero_df"
   ]
  },
  {
   "cell_type": "code",
   "execution_count": 104,
   "id": "7745693d",
   "metadata": {},
   "outputs": [
    {
     "data": {
      "text/plain": [
       "{0: 4, 1: 3, 2: 5}"
      ]
     },
     "execution_count": 104,
     "metadata": {},
     "output_type": "execute_result"
    }
   ],
   "source": [
    "def intersection(in_df):\n",
    "    intersection_dic = {}\n",
    "    count = 0\n",
    "    for i in range(3):\n",
    "        for j in range(len(bool_df.iloc[0])):\n",
    "            if bool_df.iloc[i%3][j] == bool_df.iloc[(i+1)%3][j]:\n",
    "                count +=1\n",
    "        intersection_dic.update({i:count})\n",
    "        count = 0\n",
    "    return intersection_dic\n",
    "\n",
    "intersection(bool_df)"
   ]
  },
  {
   "cell_type": "markdown",
   "id": "b35a3bf4",
   "metadata": {},
   "source": [
    "# a_Jaccard distance"
   ]
  },
  {
   "cell_type": "code",
   "execution_count": 107,
   "id": "98012c7c",
   "metadata": {},
   "outputs": [
    {
     "data": {
      "text/plain": [
       "{'AB': 0.5, 'BC': 0.625, 'AC': 0.375}"
      ]
     },
     "execution_count": 107,
     "metadata": {},
     "output_type": "execute_result"
    }
   ],
   "source": [
    "def jaccard(in_df):\n",
    "    dic = {}\n",
    "    dic = intersection(bool_df)\n",
    "    jaccard_dis = {}\n",
    "    jaccard_dis.update({'AB': 1-(dic[0]/len(in_df.iloc[0]))})\n",
    "    jaccard_dis.update({'BC': 1-(dic[1]/len(in_df.iloc[0]))})\n",
    "    jaccard_dis.update({'AC': 1-(dic[2]/len(in_df.iloc[0]))})\n",
    "    return jaccard_dis\n",
    "jaccard(bool_df)"
   ]
  },
  {
   "cell_type": "markdown",
   "id": "8c32121b",
   "metadata": {},
   "source": [
    "# b_Cosine distance"
   ]
  },
  {
   "cell_type": "code",
   "execution_count": 106,
   "id": "4d64ee3d",
   "metadata": {},
   "outputs": [
    {
     "data": {
      "text/plain": [
       "{'AB': 0.3238765962171868, 'BC': 0.4522774424948339, 'AC': 0.22848325018954052}"
      ]
     },
     "execution_count": 106,
     "metadata": {},
     "output_type": "execute_result"
    }
   ],
   "source": [
    "def cosine(in_df):\n",
    "    cosine_dis = {}\n",
    "    cosine_dis.update({'AB':distance.cosine(in_df.iloc[0],in_df.iloc[1])})\n",
    "    cosine_dis.update({'BC':distance.cosine(in_df.iloc[1],in_df.iloc[2])})\n",
    "    cosine_dis.update({'AC':distance.cosine(in_df.iloc[0],in_df.iloc[2])})\n",
    "    return cosine_dis\n",
    "cosine(bool_df)"
   ]
  },
  {
   "cell_type": "markdown",
   "id": "c21b854b",
   "metadata": {},
   "source": [
    "# c&d"
   ]
  },
  {
   "cell_type": "code",
   "execution_count": 114,
   "id": "f7b2308b",
   "metadata": {},
   "outputs": [
    {
     "data": {
      "text/html": [
       "<div>\n",
       "<style scoped>\n",
       "    .dataframe tbody tr th:only-of-type {\n",
       "        vertical-align: middle;\n",
       "    }\n",
       "\n",
       "    .dataframe tbody tr th {\n",
       "        vertical-align: top;\n",
       "    }\n",
       "\n",
       "    .dataframe thead th {\n",
       "        text-align: right;\n",
       "    }\n",
       "</style>\n",
       "<table border=\"1\" class=\"dataframe\">\n",
       "  <thead>\n",
       "    <tr style=\"text-align: right;\">\n",
       "      <th></th>\n",
       "      <th>a</th>\n",
       "      <th>b</th>\n",
       "      <th>c</th>\n",
       "      <th>d</th>\n",
       "      <th>e</th>\n",
       "      <th>f</th>\n",
       "      <th>g</th>\n",
       "      <th>h</th>\n",
       "    </tr>\n",
       "  </thead>\n",
       "  <tbody>\n",
       "    <tr>\n",
       "      <th>A</th>\n",
       "      <td>1.0</td>\n",
       "      <td>1.0</td>\n",
       "      <td>0.0</td>\n",
       "      <td>1</td>\n",
       "      <td>0.0</td>\n",
       "      <td>0.0</td>\n",
       "      <td>1</td>\n",
       "      <td>0.0</td>\n",
       "    </tr>\n",
       "    <tr>\n",
       "      <th>B</th>\n",
       "      <td>0.0</td>\n",
       "      <td>1.0</td>\n",
       "      <td>1.0</td>\n",
       "      <td>1</td>\n",
       "      <td>0.0</td>\n",
       "      <td>0.0</td>\n",
       "      <td>0</td>\n",
       "      <td>0.0</td>\n",
       "    </tr>\n",
       "    <tr>\n",
       "      <th>C</th>\n",
       "      <td>0.0</td>\n",
       "      <td>0.0</td>\n",
       "      <td>0.0</td>\n",
       "      <td>1</td>\n",
       "      <td>0.0</td>\n",
       "      <td>1.0</td>\n",
       "      <td>1</td>\n",
       "      <td>1.0</td>\n",
       "    </tr>\n",
       "  </tbody>\n",
       "</table>\n",
       "</div>"
      ],
      "text/plain": [
       "     a    b    c  d    e    f  g    h\n",
       "A  1.0  1.0  0.0  1  0.0  0.0  1  0.0\n",
       "B  0.0  1.0  1.0  1  0.0  0.0  0  0.0\n",
       "C  0.0  0.0  0.0  1  0.0  1.0  1  1.0"
      ]
     },
     "execution_count": 114,
     "metadata": {},
     "output_type": "execute_result"
    }
   ],
   "source": [
    "binary_df=zero_df.copy(deep=True)\n",
    "binary_df.replace([0,1,2],0.0,inplace=True)\n",
    "binary_df.replace([3,4,5],1.0,inplace=True)\n",
    "binary_df"
   ]
  },
  {
   "cell_type": "code",
   "execution_count": 108,
   "id": "48f3e5db",
   "metadata": {
    "scrolled": true
   },
   "outputs": [
    {
     "data": {
      "text/plain": [
       "{'AB': 0.5, 'BC': 0.625, 'AC': 0.375}"
      ]
     },
     "execution_count": 108,
     "metadata": {},
     "output_type": "execute_result"
    }
   ],
   "source": [
    "jaccard(binary_df)"
   ]
  },
  {
   "cell_type": "code",
   "execution_count": 109,
   "id": "c88371c7",
   "metadata": {},
   "outputs": [
    {
     "data": {
      "text/plain": [
       "{'AB': 0.42264973081037416, 'BC': 0.7113248654051871, 'AC': 0.5}"
      ]
     },
     "execution_count": 109,
     "metadata": {},
     "output_type": "execute_result"
    }
   ],
   "source": [
    "cosine(binary_df)"
   ]
  },
  {
   "cell_type": "markdown",
   "id": "bdbb2c80",
   "metadata": {},
   "source": [
    "# e&f"
   ]
  },
  {
   "cell_type": "code",
   "execution_count": 186,
   "id": "f09544d8",
   "metadata": {},
   "outputs": [
    {
     "data": {
      "text/plain": [
       "{0: 3.142857142857143, 1: 2.4, 2: 3.0}"
      ]
     },
     "execution_count": 186,
     "metadata": {},
     "output_type": "execute_result"
    }
   ],
   "source": [
    "norm_df = df.copy(deep=True)\n",
    "def avg(in_df):\n",
    "    avg_dic={}\n",
    "    for i in range(norm_df.shape[0]): #iterate over rows\n",
    "        count=0\n",
    "        summ=0\n",
    "        for j in range(norm_df.shape[1]):#iterate over columns\n",
    "            if pd.isna(norm_df.iloc[i,j]):\n",
    "                continue\n",
    "            count +=1\n",
    "            summ += norm_df.iloc[i,j]\n",
    "        avg_dic.update({i:summ/count})\n",
    "    return avg_dic\n",
    "            \n",
    "avg(norm_df)"
   ]
  },
  {
   "cell_type": "code",
   "execution_count": 187,
   "id": "95bd8709",
   "metadata": {},
   "outputs": [
    {
     "data": {
      "text/html": [
       "<div>\n",
       "<style scoped>\n",
       "    .dataframe tbody tr th:only-of-type {\n",
       "        vertical-align: middle;\n",
       "    }\n",
       "\n",
       "    .dataframe tbody tr th {\n",
       "        vertical-align: top;\n",
       "    }\n",
       "\n",
       "    .dataframe thead th {\n",
       "        text-align: right;\n",
       "    }\n",
       "</style>\n",
       "<table border=\"1\" class=\"dataframe\">\n",
       "  <thead>\n",
       "    <tr style=\"text-align: right;\">\n",
       "      <th></th>\n",
       "      <th>a</th>\n",
       "      <th>b</th>\n",
       "      <th>c</th>\n",
       "      <th>d</th>\n",
       "      <th>e</th>\n",
       "      <th>f</th>\n",
       "      <th>g</th>\n",
       "      <th>h</th>\n",
       "    </tr>\n",
       "  </thead>\n",
       "  <tbody>\n",
       "    <tr>\n",
       "      <th>A</th>\n",
       "      <td>0.857143</td>\n",
       "      <td>1.857143</td>\n",
       "      <td>NaN</td>\n",
       "      <td>1.857143</td>\n",
       "      <td>-2.142857</td>\n",
       "      <td>-1.142857</td>\n",
       "      <td>-0.142857</td>\n",
       "      <td>-1.142857</td>\n",
       "    </tr>\n",
       "    <tr>\n",
       "      <th>B</th>\n",
       "      <td>NaN</td>\n",
       "      <td>0.600000</td>\n",
       "      <td>1.6</td>\n",
       "      <td>0.600000</td>\n",
       "      <td>-1.400000</td>\n",
       "      <td>NaN</td>\n",
       "      <td>-1.400000</td>\n",
       "      <td>NaN</td>\n",
       "    </tr>\n",
       "    <tr>\n",
       "      <th>C</th>\n",
       "      <td>-1.000000</td>\n",
       "      <td>NaN</td>\n",
       "      <td>-2.0</td>\n",
       "      <td>0.000000</td>\n",
       "      <td>NaN</td>\n",
       "      <td>1.000000</td>\n",
       "      <td>2.000000</td>\n",
       "      <td>0.000000</td>\n",
       "    </tr>\n",
       "  </tbody>\n",
       "</table>\n",
       "</div>"
      ],
      "text/plain": [
       "          a         b    c         d         e         f         g         h\n",
       "A  0.857143  1.857143  NaN  1.857143 -2.142857 -1.142857 -0.142857 -1.142857\n",
       "B       NaN  0.600000  1.6  0.600000 -1.400000       NaN -1.400000       NaN\n",
       "C -1.000000       NaN -2.0  0.000000       NaN  1.000000  2.000000  0.000000"
      ]
     },
     "execution_count": 187,
     "metadata": {},
     "output_type": "execute_result"
    }
   ],
   "source": [
    "def norm(in_df):\n",
    "    for i in range(norm_df.shape[0]): #iterate over rows\n",
    "        for j in range(norm_df.shape[1]):#iterate over columns\n",
    "            if pd.isna(norm_df.iloc[i,j]):\n",
    "                continue\n",
    "            norm_df.iloc[i,j] = norm_df.iloc[i,j]-avg_dic[i]\n",
    "    return norm_df\n",
    "norm(norm_df)"
   ]
  },
  {
   "cell_type": "code",
   "execution_count": 188,
   "id": "67c2b2c9",
   "metadata": {},
   "outputs": [
    {
     "data": {
      "text/plain": [
       "{'AB': 0.5, 'BC': 0.625, 'AC': 0.375}"
      ]
     },
     "execution_count": 188,
     "metadata": {},
     "output_type": "execute_result"
    }
   ],
   "source": [
    "jaccard(norm(norm_df))"
   ]
  },
  {
   "cell_type": "code",
   "execution_count": 189,
   "id": "1c3bdbdc",
   "metadata": {},
   "outputs": [
    {
     "data": {
      "text/plain": [
       "{'AB': 0.3153167039917374, 'BC': 0.5454550186931619, 'AC': 0.32979422823636295}"
      ]
     },
     "execution_count": 189,
     "metadata": {},
     "output_type": "execute_result"
    }
   ],
   "source": [
    "\n",
    "temp=norm(norm_df)\n",
    "cosine(temp.fillna(0.0))\n"
   ]
  },
  {
   "cell_type": "markdown",
   "id": "2b7a2185",
   "metadata": {},
   "source": [
    "# Exercise 4"
   ]
  },
  {
   "cell_type": "markdown",
   "id": "8d76b350",
   "metadata": {},
   "source": [
    "# a_ in this rating system, numerical rating of 1 to 5 populate the utility matrix, which can be replaced by some qualitative values from worst to best according to the experiences of students in lectures, seminars and exams corresponding to that professor.\n",
    "# b_ this type of rating can be a set of qualitative values from a mature to professional artwork, the features of items in this category can be technique, harmony of colors, innovation, majesty of artwork and so on.\n",
    "# c_ the rating system can be a binary set of preferred or not, and the special event in this scenario is the ability of users to determine a dream partner for themselves, which can be a big help for the recommender system.   \n"
   ]
  },
  {
   "cell_type": "code",
   "execution_count": null,
   "id": "8fbf044b",
   "metadata": {},
   "outputs": [],
   "source": []
  }
 ],
 "metadata": {
  "kernelspec": {
   "display_name": "Python 3 (ipykernel)",
   "language": "python",
   "name": "python3"
  },
  "language_info": {
   "codemirror_mode": {
    "name": "ipython",
    "version": 3
   },
   "file_extension": ".py",
   "mimetype": "text/x-python",
   "name": "python",
   "nbconvert_exporter": "python",
   "pygments_lexer": "ipython3",
   "version": "3.9.13"
  }
 },
 "nbformat": 4,
 "nbformat_minor": 5
}
